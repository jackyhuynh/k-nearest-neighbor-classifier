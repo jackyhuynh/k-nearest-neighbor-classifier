{
 "cells": [
  {
   "cell_type": "code",
   "execution_count": 12,
   "metadata": {},
   "outputs": [],
   "source": [
    "# Truc huynh\n",
    "\n",
    "import sklearn\n",
    "import numpy as np\n",
    "from sklearn.metrics import pairwise_distances"
   ]
  },
  {
   "cell_type": "code",
   "execution_count": 2,
   "metadata": {},
   "outputs": [
    {
     "data": {
      "text/plain": [
       "array([[ 0.00,  5.02,  5.30,  3.77, 12.43,  3.85,  6.52,  3.24,  6.50,  4.99],\n",
       "       [ 5.02,  0.00, 10.19,  7.32,  8.00,  1.18, 10.72,  7.90, 11.43, 10.02],\n",
       "       [ 5.30, 10.19,  0.00,  4.07, 16.82,  9.05,  2.88,  2.38,  1.25,  1.70],\n",
       "       [ 3.77,  7.32,  4.07,  0.00, 12.98,  6.37,  3.44,  2.08,  5.21,  5.04],\n",
       "       [12.43,  8.00, 16.82, 12.98,  0.00,  9.04, 16.21, 14.46, 18.06, 17.17],\n",
       "       [ 3.85,  1.18,  9.05,  6.37,  9.04,  0.00,  9.71,  6.79, 10.28,  8.84],\n",
       "       [ 6.52, 10.72,  2.88,  3.44, 16.21,  9.71,  0.00,  3.36,  3.28,  4.57],\n",
       "       [ 3.24,  7.90,  2.38,  2.08, 14.46,  6.79,  3.36,  0.00,  3.63,  3.00],\n",
       "       [ 6.50, 11.43,  1.25,  5.21, 18.06, 10.28,  3.28,  3.63,  0.00,  2.13],\n",
       "       [ 4.99, 10.02,  1.70,  5.04, 17.17,  8.84,  4.57,  3.00,  2.13,  0.00]])"
      ]
     },
     "execution_count": 2,
     "metadata": {},
     "output_type": "execute_result"
    }
   ],
   "source": [
    "X = np.array([\n",
    "    [-3.44, 1 ],\n",
    "    [-6.48, 5],\n",
    "    [0.93, -2],\n",
    "    [0.2, 2],\n",
    "    [-6.69, 13 ],\n",
    "    [-5.85, 4],\n",
    "    [3.0, 0],\n",
    "    [-0.36, 0],\n",
    "    [1.68, -3],\n",
    "    [-0.45, -3]\n",
    "    \n",
    "])\n",
    "\n",
    "np.set_printoptions(precision=2, linewidth=100, floatmode='fixed')\n",
    "sklearn.metrics.pairwise_distances(X)"
   ]
  },
  {
   "cell_type": "code",
   "execution_count": 5,
   "metadata": {},
   "outputs": [],
   "source": [
    "# 0 = star\n",
    "# 1 = spade\n",
    "y = np.array([\n",
    "    0,\n",
    "    1,\n",
    "    0,\n",
    "    1,\n",
    "    0,\n",
    "    0,\n",
    "    1,\n",
    "    1,\n",
    "    1,\n",
    "    0\n",
    "])"
   ]
  },
  {
   "cell_type": "code",
   "execution_count": 9,
   "metadata": {},
   "outputs": [
    {
     "name": "stdout",
     "output_type": "stream",
     "text": [
      "[[1 5 0 3]\n",
      " [7 3 2 9]]\n"
     ]
    }
   ],
   "source": [
    "#a\n",
    "from sklearn.neighbors import NearestNeighbors\n",
    "neigh = NearestNeighbors(n_neighbors=4)\n",
    "neigh.fit(X)\n",
    "distances, neighbors = neigh.kneighbors([X[1],X[7]])\n",
    "\n",
    "#create a nearest neighbor classifier = 4 \n",
    "#fit the data X to the classifier\n",
    "#extract the distances and neighbors from kneighbors function\n",
    "#print the appropriate information\n",
    "\n",
    "print(neighbors)"
   ]
  },
  {
   "cell_type": "code",
   "execution_count": 10,
   "metadata": {},
   "outputs": [
    {
     "data": {
      "text/plain": [
       "0.7"
      ]
     },
     "execution_count": 10,
     "metadata": {},
     "output_type": "execute_result"
    }
   ],
   "source": [
    "#b\n",
    "from sklearn.neighbors import KNeighborsClassifier\n",
    "from sklearn.model_selection import LeaveOneOut\n",
    "from sklearn.metrics import accuracy_score\n",
    "\n",
    "loo = LeaveOneOut()\n",
    "errs = []\n",
    "\n",
    "for train_index, test_index in loo.split(X):\n",
    "    X_train, X_test = X[train_index], X[test_index]\n",
    "    y_train, y_test = y[train_index], y[test_index]\n",
    "    \n",
    "    neigh = KNeighborsClassifier(n_neighbors=1)\n",
    "    neigh.fit(X_train,y_train)\n",
    "    predict = neigh.predict(X_test)\n",
    "    acc = accuracy_score(predict, y_test)\n",
    "    # 1-acc because we want the error rate\n",
    "    errs.append(1-acc)\n",
    "    \n",
    "# Final error rate is 0.7\n",
    "np.mean(errs)\n",
    "\n",
    "#create leave one out CV split on X and iterate through all possible splits\n",
    "#split the X data into test and train data based on indexes from split\n",
    "#create a Nearest neighbor classifier = 1\n",
    "#fit the classifier to the X data\n",
    "#predict the label of the test data\n",
    "#compute the accuracy of the classification\n",
    "#compute the error rate = 1-accuracy\n",
    "#append the error rate to a list\n",
    "\n",
    "#once you complete iterating through all the different data find the mean of the error\n",
    "\n"
   ]
  },
  {
   "cell_type": "code",
   "execution_count": 11,
   "metadata": {},
   "outputs": [
    {
     "name": "stdout",
     "output_type": "stream",
     "text": [
      "Train: [4 5 6 7 8 9]\n",
      "Test: [0 1 2 3]\n",
      "\n",
      "Train: [0 1 2 3 7 8 9]\n",
      "Test: [4 5 6]\n",
      "\n",
      "Train: [0 1 2 3 4 5 6]\n",
      "Test: [7 8 9]\n",
      "\n"
     ]
    },
    {
     "data": {
      "text/plain": [
       "0.5"
      ]
     },
     "execution_count": 11,
     "metadata": {},
     "output_type": "execute_result"
    }
   ],
   "source": [
    "#c\n",
    "from sklearn.neighbors import KNeighborsClassifier\n",
    "from sklearn.model_selection import KFold\n",
    "from sklearn.metrics import accuracy_score\n",
    "\n",
    "#create a kfold split = 3\n",
    "kf = KFold(n_splits=3)\n",
    "errs = []\n",
    "\n",
    "for train_index, test_index in kf.split(X):\n",
    "    print(\"Train:\", train_index)\n",
    "    print(\"Test:\", test_index)\n",
    "    print()\n",
    "    X_train, X_test = X[train_index], X[test_index]\n",
    "    y_train, y_test = y[train_index], y[test_index]\n",
    "    \n",
    "    neigh = KNeighborsClassifier(n_neighbors=3)\n",
    "    neigh.fit(X_train,y_train)\n",
    "    predict = neigh.predict(X_test)\n",
    "    acc = accuracy_score(predict, y_test)\n",
    "    \n",
    "    # 1-acc because we want the error rate\n",
    "    errs.append(1-acc)\n",
    "    \n",
    "# Final error rate is 0.69\n",
    "# Ignore the answer that it says in the document\n",
    "\n",
    "np.mean(errs)\n",
    "\n",
    "#iterate through all splits and find the train and test indexes\n",
    "#split the data into train and text sets based on the indexes\n",
    "#create a nearest neighbor classifier = 3\n",
    "#fit the data to the classifier\n",
    "#predict the label of the test data\n",
    "#compute the accuracy of the prediction\n",
    "#compute the error rate = 1-accuracy\n",
    "#append the error rates to a list\n",
    "#compute the mean of all error rates"
   ]
  },
  {
   "cell_type": "code",
   "execution_count": null,
   "metadata": {},
   "outputs": [],
   "source": []
  }
 ],
 "metadata": {
  "kernelspec": {
   "display_name": "Python 3",
   "language": "python",
   "name": "python3"
  },
  "language_info": {
   "codemirror_mode": {
    "name": "ipython",
    "version": 3
   },
   "file_extension": ".py",
   "mimetype": "text/x-python",
   "name": "python",
   "nbconvert_exporter": "python",
   "pygments_lexer": "ipython3",
   "version": "3.8.8"
  }
 },
 "nbformat": 4,
 "nbformat_minor": 4
}
